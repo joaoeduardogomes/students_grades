{
 "cells": [
  {
   "cell_type": "markdown",
   "id": "8753e22e-463c-4882-95d7-227d23da2069",
   "metadata": {},
   "source": [
    "### Importing Pandas"
   ]
  },
  {
   "cell_type": "code",
   "execution_count": 1,
   "id": "1e3fdec4-7887-4605-bd3e-6b4329315482",
   "metadata": {},
   "outputs": [],
   "source": [
    "import pandas as pd\n",
    "import matplotlib.pyplot as plt"
   ]
  },
  {
   "cell_type": "markdown",
   "id": "e3e11bf7-03d0-45e3-ba8f-c2e244011e96",
   "metadata": {},
   "source": [
    "### Oppening the csv file"
   ]
  },
  {
   "cell_type": "code",
   "execution_count": 2,
   "id": "60c93b2d-938c-4e5d-ac89-941235c2b101",
   "metadata": {},
   "outputs": [],
   "source": [
    "df = pd.read_csv(\"./students_scores.csv\")"
   ]
  },
  {
   "cell_type": "markdown",
   "id": "ecb1da38-3807-4a49-9fd4-3355775e3eb0",
   "metadata": {},
   "source": [
    "### Seeing the data:"
   ]
  },
  {
   "cell_type": "code",
   "execution_count": 3,
   "id": "0f1385f8-ccce-4219-8a07-ba11a50a4186",
   "metadata": {},
   "outputs": [
    {
     "data": {
      "text/html": [
       "<div>\n",
       "<style scoped>\n",
       "    .dataframe tbody tr th:only-of-type {\n",
       "        vertical-align: middle;\n",
       "    }\n",
       "\n",
       "    .dataframe tbody tr th {\n",
       "        vertical-align: top;\n",
       "    }\n",
       "\n",
       "    .dataframe thead th {\n",
       "        text-align: right;\n",
       "    }\n",
       "</style>\n",
       "<table border=\"1\" class=\"dataframe\">\n",
       "  <thead>\n",
       "    <tr style=\"text-align: right;\">\n",
       "      <th></th>\n",
       "      <th>student name</th>\n",
       "      <th>score 1</th>\n",
       "      <th>score 2</th>\n",
       "      <th>score 3</th>\n",
       "    </tr>\n",
       "  </thead>\n",
       "  <tbody>\n",
       "    <tr>\n",
       "      <th>0</th>\n",
       "      <td>Alice</td>\n",
       "      <td>85</td>\n",
       "      <td>90</td>\n",
       "      <td>75</td>\n",
       "    </tr>\n",
       "    <tr>\n",
       "      <th>1</th>\n",
       "      <td>Bob</td>\n",
       "      <td>92</td>\n",
       "      <td>88</td>\n",
       "      <td>93</td>\n",
       "    </tr>\n",
       "    <tr>\n",
       "      <th>2</th>\n",
       "      <td>Charlie</td>\n",
       "      <td>78</td>\n",
       "      <td>95</td>\n",
       "      <td>82</td>\n",
       "    </tr>\n",
       "    <tr>\n",
       "      <th>3</th>\n",
       "      <td>David</td>\n",
       "      <td>55</td>\n",
       "      <td>60</td>\n",
       "      <td>45</td>\n",
       "    </tr>\n",
       "    <tr>\n",
       "      <th>4</th>\n",
       "      <td>Emily</td>\n",
       "      <td>82</td>\n",
       "      <td>91</td>\n",
       "      <td>84</td>\n",
       "    </tr>\n",
       "  </tbody>\n",
       "</table>\n",
       "</div>"
      ],
      "text/plain": [
       "  student name  score 1  score 2  score 3\n",
       "0        Alice       85       90       75\n",
       "1          Bob       92       88       93\n",
       "2      Charlie       78       95       82\n",
       "3        David       55       60       45\n",
       "4        Emily       82       91       84"
      ]
     },
     "execution_count": 3,
     "metadata": {},
     "output_type": "execute_result"
    }
   ],
   "source": [
    "df.head()"
   ]
  },
  {
   "cell_type": "code",
   "execution_count": 4,
   "id": "beb0bcdb-6df9-41f0-9e2b-f3e1a8df3a1c",
   "metadata": {},
   "outputs": [
    {
     "data": {
      "text/plain": [
       "(52, 4)"
      ]
     },
     "execution_count": 4,
     "metadata": {},
     "output_type": "execute_result"
    }
   ],
   "source": [
    "df.shape"
   ]
  },
  {
   "cell_type": "code",
   "execution_count": 5,
   "id": "376907e5-4bc4-4bb2-8063-6c0a5d895d69",
   "metadata": {},
   "outputs": [
    {
     "data": {
      "text/plain": [
       "Index(['student name', 'score 1', 'score 2', 'score 3'], dtype='object')"
      ]
     },
     "execution_count": 5,
     "metadata": {},
     "output_type": "execute_result"
    }
   ],
   "source": [
    "df.columns"
   ]
  },
  {
   "cell_type": "code",
   "execution_count": 6,
   "id": "a4764a47-ac73-4099-8c18-8497b46851fd",
   "metadata": {},
   "outputs": [
    {
     "name": "stdout",
     "output_type": "stream",
     "text": [
      "False\n"
     ]
    }
   ],
   "source": [
    "has_null = df.isnull().values.any()\n",
    "print(has_null)"
   ]
  },
  {
   "cell_type": "code",
   "execution_count": null,
   "id": "0ad4dfea-87c0-41ca-bcde-6d6c376e31d7",
   "metadata": {},
   "outputs": [],
   "source": []
  },
  {
   "cell_type": "markdown",
   "id": "02847b2d-1556-48c4-96ae-d3eba23e72a4",
   "metadata": {},
   "source": [
    "# Creating the \"grade\" column:"
   ]
  },
  {
   "cell_type": "code",
   "execution_count": 7,
   "id": "2a0ca067-52c9-4bb8-94e9-860a92f710ef",
   "metadata": {},
   "outputs": [
    {
     "data": {
      "text/html": [
       "<div>\n",
       "<style scoped>\n",
       "    .dataframe tbody tr th:only-of-type {\n",
       "        vertical-align: middle;\n",
       "    }\n",
       "\n",
       "    .dataframe tbody tr th {\n",
       "        vertical-align: top;\n",
       "    }\n",
       "\n",
       "    .dataframe thead th {\n",
       "        text-align: right;\n",
       "    }\n",
       "</style>\n",
       "<table border=\"1\" class=\"dataframe\">\n",
       "  <thead>\n",
       "    <tr style=\"text-align: right;\">\n",
       "      <th></th>\n",
       "      <th>student name</th>\n",
       "      <th>score 1</th>\n",
       "      <th>score 2</th>\n",
       "      <th>score 3</th>\n",
       "      <th>grade</th>\n",
       "    </tr>\n",
       "  </thead>\n",
       "  <tbody>\n",
       "    <tr>\n",
       "      <th>0</th>\n",
       "      <td>Alice</td>\n",
       "      <td>85</td>\n",
       "      <td>90</td>\n",
       "      <td>75</td>\n",
       "      <td>83.33</td>\n",
       "    </tr>\n",
       "    <tr>\n",
       "      <th>1</th>\n",
       "      <td>Bob</td>\n",
       "      <td>92</td>\n",
       "      <td>88</td>\n",
       "      <td>93</td>\n",
       "      <td>91.00</td>\n",
       "    </tr>\n",
       "    <tr>\n",
       "      <th>2</th>\n",
       "      <td>Charlie</td>\n",
       "      <td>78</td>\n",
       "      <td>95</td>\n",
       "      <td>82</td>\n",
       "      <td>85.00</td>\n",
       "    </tr>\n",
       "    <tr>\n",
       "      <th>3</th>\n",
       "      <td>David</td>\n",
       "      <td>55</td>\n",
       "      <td>60</td>\n",
       "      <td>45</td>\n",
       "      <td>53.33</td>\n",
       "    </tr>\n",
       "    <tr>\n",
       "      <th>4</th>\n",
       "      <td>Emily</td>\n",
       "      <td>82</td>\n",
       "      <td>91</td>\n",
       "      <td>84</td>\n",
       "      <td>85.67</td>\n",
       "    </tr>\n",
       "  </tbody>\n",
       "</table>\n",
       "</div>"
      ],
      "text/plain": [
       "  student name  score 1  score 2  score 3  grade\n",
       "0        Alice       85       90       75  83.33\n",
       "1          Bob       92       88       93  91.00\n",
       "2      Charlie       78       95       82  85.00\n",
       "3        David       55       60       45  53.33\n",
       "4        Emily       82       91       84  85.67"
      ]
     },
     "execution_count": 7,
     "metadata": {},
     "output_type": "execute_result"
    }
   ],
   "source": [
    "df[\"grade\"] = df[[\"score 1\", \"score 2\", \"score 3\"]].mean(axis=1)\n",
    "# formatting the data:\n",
    "df['grade'] = df['grade'].apply(lambda x: f\"{x:.2f}\")\n",
    "df.head()"
   ]
  },
  {
   "cell_type": "markdown",
   "id": "ea648bfe-5975-4633-ac0f-59f9ef1d6048",
   "metadata": {},
   "source": [
    "# Creating the \"status\" column:"
   ]
  },
  {
   "cell_type": "code",
   "execution_count": 8,
   "id": "bf76dc7b-93ce-4b18-a311-0a478d3caaec",
   "metadata": {},
   "outputs": [],
   "source": [
    "df[\"grade\"] = pd.to_numeric(df[\"grade\"])"
   ]
  },
  {
   "cell_type": "code",
   "execution_count": 9,
   "id": "cf71ae31-c5b9-4b26-b9fc-9d3d8d378a3a",
   "metadata": {},
   "outputs": [],
   "source": [
    "df[\"status\"] = df[\"grade\"].apply(lambda x: \"approved\" if x >= 60 else \"failed\")"
   ]
  },
  {
   "cell_type": "code",
   "execution_count": 10,
   "id": "4437f775-45bb-4a02-85e3-7d3d34e82ff7",
   "metadata": {},
   "outputs": [
    {
     "data": {
      "text/html": [
       "<div>\n",
       "<style scoped>\n",
       "    .dataframe tbody tr th:only-of-type {\n",
       "        vertical-align: middle;\n",
       "    }\n",
       "\n",
       "    .dataframe tbody tr th {\n",
       "        vertical-align: top;\n",
       "    }\n",
       "\n",
       "    .dataframe thead th {\n",
       "        text-align: right;\n",
       "    }\n",
       "</style>\n",
       "<table border=\"1\" class=\"dataframe\">\n",
       "  <thead>\n",
       "    <tr style=\"text-align: right;\">\n",
       "      <th></th>\n",
       "      <th>student name</th>\n",
       "      <th>score 1</th>\n",
       "      <th>score 2</th>\n",
       "      <th>score 3</th>\n",
       "      <th>grade</th>\n",
       "      <th>status</th>\n",
       "    </tr>\n",
       "  </thead>\n",
       "  <tbody>\n",
       "    <tr>\n",
       "      <th>0</th>\n",
       "      <td>Alice</td>\n",
       "      <td>85</td>\n",
       "      <td>90</td>\n",
       "      <td>75</td>\n",
       "      <td>83.33</td>\n",
       "      <td>approved</td>\n",
       "    </tr>\n",
       "    <tr>\n",
       "      <th>1</th>\n",
       "      <td>Bob</td>\n",
       "      <td>92</td>\n",
       "      <td>88</td>\n",
       "      <td>93</td>\n",
       "      <td>91.00</td>\n",
       "      <td>approved</td>\n",
       "    </tr>\n",
       "    <tr>\n",
       "      <th>2</th>\n",
       "      <td>Charlie</td>\n",
       "      <td>78</td>\n",
       "      <td>95</td>\n",
       "      <td>82</td>\n",
       "      <td>85.00</td>\n",
       "      <td>approved</td>\n",
       "    </tr>\n",
       "    <tr>\n",
       "      <th>3</th>\n",
       "      <td>David</td>\n",
       "      <td>55</td>\n",
       "      <td>60</td>\n",
       "      <td>45</td>\n",
       "      <td>53.33</td>\n",
       "      <td>failed</td>\n",
       "    </tr>\n",
       "    <tr>\n",
       "      <th>4</th>\n",
       "      <td>Emily</td>\n",
       "      <td>82</td>\n",
       "      <td>91</td>\n",
       "      <td>84</td>\n",
       "      <td>85.67</td>\n",
       "      <td>approved</td>\n",
       "    </tr>\n",
       "    <tr>\n",
       "      <th>5</th>\n",
       "      <td>Frank</td>\n",
       "      <td>75</td>\n",
       "      <td>86</td>\n",
       "      <td>90</td>\n",
       "      <td>83.67</td>\n",
       "      <td>approved</td>\n",
       "    </tr>\n",
       "    <tr>\n",
       "      <th>6</th>\n",
       "      <td>Grace</td>\n",
       "      <td>94</td>\n",
       "      <td>89</td>\n",
       "      <td>92</td>\n",
       "      <td>91.67</td>\n",
       "      <td>approved</td>\n",
       "    </tr>\n",
       "    <tr>\n",
       "      <th>7</th>\n",
       "      <td>Henry</td>\n",
       "      <td>88</td>\n",
       "      <td>93</td>\n",
       "      <td>85</td>\n",
       "      <td>88.67</td>\n",
       "      <td>approved</td>\n",
       "    </tr>\n",
       "    <tr>\n",
       "      <th>8</th>\n",
       "      <td>Isabella</td>\n",
       "      <td>79</td>\n",
       "      <td>87</td>\n",
       "      <td>91</td>\n",
       "      <td>85.67</td>\n",
       "      <td>approved</td>\n",
       "    </tr>\n",
       "    <tr>\n",
       "      <th>9</th>\n",
       "      <td>Jack</td>\n",
       "      <td>95</td>\n",
       "      <td>80</td>\n",
       "      <td>86</td>\n",
       "      <td>87.00</td>\n",
       "      <td>approved</td>\n",
       "    </tr>\n",
       "    <tr>\n",
       "      <th>10</th>\n",
       "      <td>Kate</td>\n",
       "      <td>83</td>\n",
       "      <td>92</td>\n",
       "      <td>87</td>\n",
       "      <td>87.33</td>\n",
       "      <td>approved</td>\n",
       "    </tr>\n",
       "    <tr>\n",
       "      <th>11</th>\n",
       "      <td>Leo</td>\n",
       "      <td>76</td>\n",
       "      <td>85</td>\n",
       "      <td>94</td>\n",
       "      <td>85.00</td>\n",
       "      <td>approved</td>\n",
       "    </tr>\n",
       "    <tr>\n",
       "      <th>12</th>\n",
       "      <td>Mia</td>\n",
       "      <td>90</td>\n",
       "      <td>88</td>\n",
       "      <td>90</td>\n",
       "      <td>89.33</td>\n",
       "      <td>approved</td>\n",
       "    </tr>\n",
       "    <tr>\n",
       "      <th>13</th>\n",
       "      <td>Noah</td>\n",
       "      <td>87</td>\n",
       "      <td>93</td>\n",
       "      <td>82</td>\n",
       "      <td>87.33</td>\n",
       "      <td>approved</td>\n",
       "    </tr>\n",
       "    <tr>\n",
       "      <th>14</th>\n",
       "      <td>Olivia</td>\n",
       "      <td>78</td>\n",
       "      <td>89</td>\n",
       "      <td>95</td>\n",
       "      <td>87.33</td>\n",
       "      <td>approved</td>\n",
       "    </tr>\n",
       "    <tr>\n",
       "      <th>15</th>\n",
       "      <td>Paul</td>\n",
       "      <td>92</td>\n",
       "      <td>86</td>\n",
       "      <td>84</td>\n",
       "      <td>87.33</td>\n",
       "      <td>approved</td>\n",
       "    </tr>\n",
       "    <tr>\n",
       "      <th>16</th>\n",
       "      <td>Quinn</td>\n",
       "      <td>85</td>\n",
       "      <td>90</td>\n",
       "      <td>87</td>\n",
       "      <td>87.33</td>\n",
       "      <td>approved</td>\n",
       "    </tr>\n",
       "    <tr>\n",
       "      <th>17</th>\n",
       "      <td>Rachel</td>\n",
       "      <td>77</td>\n",
       "      <td>88</td>\n",
       "      <td>93</td>\n",
       "      <td>86.00</td>\n",
       "      <td>approved</td>\n",
       "    </tr>\n",
       "    <tr>\n",
       "      <th>18</th>\n",
       "      <td>Sarah</td>\n",
       "      <td>91</td>\n",
       "      <td>85</td>\n",
       "      <td>89</td>\n",
       "      <td>88.33</td>\n",
       "      <td>approved</td>\n",
       "    </tr>\n",
       "    <tr>\n",
       "      <th>19</th>\n",
       "      <td>Thomas</td>\n",
       "      <td>80</td>\n",
       "      <td>92</td>\n",
       "      <td>86</td>\n",
       "      <td>86.00</td>\n",
       "      <td>approved</td>\n",
       "    </tr>\n",
       "    <tr>\n",
       "      <th>20</th>\n",
       "      <td>Ursula</td>\n",
       "      <td>79</td>\n",
       "      <td>87</td>\n",
       "      <td>94</td>\n",
       "      <td>86.67</td>\n",
       "      <td>approved</td>\n",
       "    </tr>\n",
       "    <tr>\n",
       "      <th>21</th>\n",
       "      <td>Victor</td>\n",
       "      <td>93</td>\n",
       "      <td>83</td>\n",
       "      <td>88</td>\n",
       "      <td>88.00</td>\n",
       "      <td>approved</td>\n",
       "    </tr>\n",
       "    <tr>\n",
       "      <th>22</th>\n",
       "      <td>William</td>\n",
       "      <td>86</td>\n",
       "      <td>91</td>\n",
       "      <td>85</td>\n",
       "      <td>87.33</td>\n",
       "      <td>approved</td>\n",
       "    </tr>\n",
       "    <tr>\n",
       "      <th>23</th>\n",
       "      <td>Xavier</td>\n",
       "      <td>74</td>\n",
       "      <td>88</td>\n",
       "      <td>92</td>\n",
       "      <td>84.67</td>\n",
       "      <td>approved</td>\n",
       "    </tr>\n",
       "    <tr>\n",
       "      <th>24</th>\n",
       "      <td>Yolanda</td>\n",
       "      <td>95</td>\n",
       "      <td>82</td>\n",
       "      <td>87</td>\n",
       "      <td>88.00</td>\n",
       "      <td>approved</td>\n",
       "    </tr>\n",
       "    <tr>\n",
       "      <th>25</th>\n",
       "      <td>Zachary</td>\n",
       "      <td>81</td>\n",
       "      <td>90</td>\n",
       "      <td>86</td>\n",
       "      <td>85.67</td>\n",
       "      <td>approved</td>\n",
       "    </tr>\n",
       "    <tr>\n",
       "      <th>26</th>\n",
       "      <td>Abigail</td>\n",
       "      <td>60</td>\n",
       "      <td>40</td>\n",
       "      <td>35</td>\n",
       "      <td>45.00</td>\n",
       "      <td>failed</td>\n",
       "    </tr>\n",
       "    <tr>\n",
       "      <th>27</th>\n",
       "      <td>Benjamin</td>\n",
       "      <td>55</td>\n",
       "      <td>65</td>\n",
       "      <td>70</td>\n",
       "      <td>63.33</td>\n",
       "      <td>approved</td>\n",
       "    </tr>\n",
       "    <tr>\n",
       "      <th>28</th>\n",
       "      <td>Chloe</td>\n",
       "      <td>70</td>\n",
       "      <td>80</td>\n",
       "      <td>55</td>\n",
       "      <td>68.33</td>\n",
       "      <td>approved</td>\n",
       "    </tr>\n",
       "    <tr>\n",
       "      <th>29</th>\n",
       "      <td>Daniel</td>\n",
       "      <td>45</td>\n",
       "      <td>50</td>\n",
       "      <td>30</td>\n",
       "      <td>41.67</td>\n",
       "      <td>failed</td>\n",
       "    </tr>\n",
       "    <tr>\n",
       "      <th>30</th>\n",
       "      <td>Eleanor</td>\n",
       "      <td>65</td>\n",
       "      <td>75</td>\n",
       "      <td>80</td>\n",
       "      <td>73.33</td>\n",
       "      <td>approved</td>\n",
       "    </tr>\n",
       "    <tr>\n",
       "      <th>31</th>\n",
       "      <td>Frederick</td>\n",
       "      <td>50</td>\n",
       "      <td>60</td>\n",
       "      <td>75</td>\n",
       "      <td>61.67</td>\n",
       "      <td>approved</td>\n",
       "    </tr>\n",
       "    <tr>\n",
       "      <th>32</th>\n",
       "      <td>Gabriella</td>\n",
       "      <td>70</td>\n",
       "      <td>85</td>\n",
       "      <td>45</td>\n",
       "      <td>66.67</td>\n",
       "      <td>approved</td>\n",
       "    </tr>\n",
       "    <tr>\n",
       "      <th>33</th>\n",
       "      <td>Henry</td>\n",
       "      <td>92</td>\n",
       "      <td>81</td>\n",
       "      <td>87</td>\n",
       "      <td>86.67</td>\n",
       "      <td>approved</td>\n",
       "    </tr>\n",
       "    <tr>\n",
       "      <th>34</th>\n",
       "      <td>Isabella</td>\n",
       "      <td>85</td>\n",
       "      <td>94</td>\n",
       "      <td>80</td>\n",
       "      <td>86.33</td>\n",
       "      <td>approved</td>\n",
       "    </tr>\n",
       "    <tr>\n",
       "      <th>35</th>\n",
       "      <td>Jack</td>\n",
       "      <td>78</td>\n",
       "      <td>88</td>\n",
       "      <td>93</td>\n",
       "      <td>86.33</td>\n",
       "      <td>approved</td>\n",
       "    </tr>\n",
       "    <tr>\n",
       "      <th>36</th>\n",
       "      <td>Kate</td>\n",
       "      <td>91</td>\n",
       "      <td>85</td>\n",
       "      <td>86</td>\n",
       "      <td>87.33</td>\n",
       "      <td>approved</td>\n",
       "    </tr>\n",
       "    <tr>\n",
       "      <th>37</th>\n",
       "      <td>Leo</td>\n",
       "      <td>83</td>\n",
       "      <td>92</td>\n",
       "      <td>87</td>\n",
       "      <td>87.33</td>\n",
       "      <td>approved</td>\n",
       "    </tr>\n",
       "    <tr>\n",
       "      <th>38</th>\n",
       "      <td>Mia</td>\n",
       "      <td>75</td>\n",
       "      <td>89</td>\n",
       "      <td>94</td>\n",
       "      <td>86.00</td>\n",
       "      <td>approved</td>\n",
       "    </tr>\n",
       "    <tr>\n",
       "      <th>39</th>\n",
       "      <td>Noah</td>\n",
       "      <td>87</td>\n",
       "      <td>83</td>\n",
       "      <td>90</td>\n",
       "      <td>86.67</td>\n",
       "      <td>approved</td>\n",
       "    </tr>\n",
       "    <tr>\n",
       "      <th>40</th>\n",
       "      <td>Olivia</td>\n",
       "      <td>79</td>\n",
       "      <td>91</td>\n",
       "      <td>85</td>\n",
       "      <td>85.00</td>\n",
       "      <td>approved</td>\n",
       "    </tr>\n",
       "    <tr>\n",
       "      <th>41</th>\n",
       "      <td>Paul</td>\n",
       "      <td>92</td>\n",
       "      <td>86</td>\n",
       "      <td>88</td>\n",
       "      <td>88.67</td>\n",
       "      <td>approved</td>\n",
       "    </tr>\n",
       "    <tr>\n",
       "      <th>42</th>\n",
       "      <td>Quinn</td>\n",
       "      <td>85</td>\n",
       "      <td>90</td>\n",
       "      <td>87</td>\n",
       "      <td>87.33</td>\n",
       "      <td>approved</td>\n",
       "    </tr>\n",
       "    <tr>\n",
       "      <th>43</th>\n",
       "      <td>Rachel</td>\n",
       "      <td>77</td>\n",
       "      <td>88</td>\n",
       "      <td>93</td>\n",
       "      <td>86.00</td>\n",
       "      <td>approved</td>\n",
       "    </tr>\n",
       "    <tr>\n",
       "      <th>44</th>\n",
       "      <td>Sarah</td>\n",
       "      <td>91</td>\n",
       "      <td>85</td>\n",
       "      <td>89</td>\n",
       "      <td>88.33</td>\n",
       "      <td>approved</td>\n",
       "    </tr>\n",
       "    <tr>\n",
       "      <th>45</th>\n",
       "      <td>Thomas</td>\n",
       "      <td>80</td>\n",
       "      <td>92</td>\n",
       "      <td>86</td>\n",
       "      <td>86.00</td>\n",
       "      <td>approved</td>\n",
       "    </tr>\n",
       "    <tr>\n",
       "      <th>46</th>\n",
       "      <td>Ursula</td>\n",
       "      <td>79</td>\n",
       "      <td>87</td>\n",
       "      <td>94</td>\n",
       "      <td>86.67</td>\n",
       "      <td>approved</td>\n",
       "    </tr>\n",
       "    <tr>\n",
       "      <th>47</th>\n",
       "      <td>Victor</td>\n",
       "      <td>93</td>\n",
       "      <td>83</td>\n",
       "      <td>88</td>\n",
       "      <td>88.00</td>\n",
       "      <td>approved</td>\n",
       "    </tr>\n",
       "    <tr>\n",
       "      <th>48</th>\n",
       "      <td>William</td>\n",
       "      <td>86</td>\n",
       "      <td>91</td>\n",
       "      <td>85</td>\n",
       "      <td>87.33</td>\n",
       "      <td>approved</td>\n",
       "    </tr>\n",
       "    <tr>\n",
       "      <th>49</th>\n",
       "      <td>Xavier</td>\n",
       "      <td>74</td>\n",
       "      <td>88</td>\n",
       "      <td>92</td>\n",
       "      <td>84.67</td>\n",
       "      <td>approved</td>\n",
       "    </tr>\n",
       "    <tr>\n",
       "      <th>50</th>\n",
       "      <td>Yolanda</td>\n",
       "      <td>95</td>\n",
       "      <td>82</td>\n",
       "      <td>87</td>\n",
       "      <td>88.00</td>\n",
       "      <td>approved</td>\n",
       "    </tr>\n",
       "    <tr>\n",
       "      <th>51</th>\n",
       "      <td>Zachary</td>\n",
       "      <td>81</td>\n",
       "      <td>90</td>\n",
       "      <td>86</td>\n",
       "      <td>85.67</td>\n",
       "      <td>approved</td>\n",
       "    </tr>\n",
       "  </tbody>\n",
       "</table>\n",
       "</div>"
      ],
      "text/plain": [
       "   student name  score 1  score 2  score 3  grade    status\n",
       "0         Alice       85       90       75  83.33  approved\n",
       "1           Bob       92       88       93  91.00  approved\n",
       "2       Charlie       78       95       82  85.00  approved\n",
       "3         David       55       60       45  53.33    failed\n",
       "4         Emily       82       91       84  85.67  approved\n",
       "5         Frank       75       86       90  83.67  approved\n",
       "6         Grace       94       89       92  91.67  approved\n",
       "7         Henry       88       93       85  88.67  approved\n",
       "8      Isabella       79       87       91  85.67  approved\n",
       "9          Jack       95       80       86  87.00  approved\n",
       "10         Kate       83       92       87  87.33  approved\n",
       "11          Leo       76       85       94  85.00  approved\n",
       "12          Mia       90       88       90  89.33  approved\n",
       "13         Noah       87       93       82  87.33  approved\n",
       "14       Olivia       78       89       95  87.33  approved\n",
       "15         Paul       92       86       84  87.33  approved\n",
       "16        Quinn       85       90       87  87.33  approved\n",
       "17       Rachel       77       88       93  86.00  approved\n",
       "18        Sarah       91       85       89  88.33  approved\n",
       "19       Thomas       80       92       86  86.00  approved\n",
       "20       Ursula       79       87       94  86.67  approved\n",
       "21       Victor       93       83       88  88.00  approved\n",
       "22      William       86       91       85  87.33  approved\n",
       "23       Xavier       74       88       92  84.67  approved\n",
       "24      Yolanda       95       82       87  88.00  approved\n",
       "25      Zachary       81       90       86  85.67  approved\n",
       "26      Abigail       60       40       35  45.00    failed\n",
       "27     Benjamin       55       65       70  63.33  approved\n",
       "28        Chloe       70       80       55  68.33  approved\n",
       "29       Daniel       45       50       30  41.67    failed\n",
       "30      Eleanor       65       75       80  73.33  approved\n",
       "31    Frederick       50       60       75  61.67  approved\n",
       "32    Gabriella       70       85       45  66.67  approved\n",
       "33        Henry       92       81       87  86.67  approved\n",
       "34     Isabella       85       94       80  86.33  approved\n",
       "35         Jack       78       88       93  86.33  approved\n",
       "36         Kate       91       85       86  87.33  approved\n",
       "37          Leo       83       92       87  87.33  approved\n",
       "38          Mia       75       89       94  86.00  approved\n",
       "39         Noah       87       83       90  86.67  approved\n",
       "40       Olivia       79       91       85  85.00  approved\n",
       "41         Paul       92       86       88  88.67  approved\n",
       "42        Quinn       85       90       87  87.33  approved\n",
       "43       Rachel       77       88       93  86.00  approved\n",
       "44        Sarah       91       85       89  88.33  approved\n",
       "45       Thomas       80       92       86  86.00  approved\n",
       "46       Ursula       79       87       94  86.67  approved\n",
       "47       Victor       93       83       88  88.00  approved\n",
       "48      William       86       91       85  87.33  approved\n",
       "49       Xavier       74       88       92  84.67  approved\n",
       "50      Yolanda       95       82       87  88.00  approved\n",
       "51      Zachary       81       90       86  85.67  approved"
      ]
     },
     "execution_count": 10,
     "metadata": {},
     "output_type": "execute_result"
    }
   ],
   "source": [
    "df"
   ]
  },
  {
   "cell_type": "markdown",
   "id": "fb33677d-749d-4994-8834-dd7721940e95",
   "metadata": {},
   "source": [
    "# Getting the higher grade:"
   ]
  },
  {
   "cell_type": "code",
   "execution_count": 11,
   "id": "bbc5877d-e400-4ff0-a7b3-dd05c15ca5ec",
   "metadata": {},
   "outputs": [
    {
     "name": "stdout",
     "output_type": "stream",
     "text": [
      "91.67\n"
     ]
    }
   ],
   "source": [
    "# highest mean:\n",
    "highest_grade = df[\"grade\"].max()\n",
    "print(highest_grade)"
   ]
  },
  {
   "cell_type": "code",
   "execution_count": 12,
   "id": "acdeef68-bb8c-4918-be26-c22bec60efb5",
   "metadata": {},
   "outputs": [
    {
     "name": "stdout",
     "output_type": "stream",
     "text": [
      "Grace\n"
     ]
    }
   ],
   "source": [
    "# student with the highest mean:\n",
    "highest_grade_id = df[\"grade\"].idxmax()\n",
    "highest_grade_student = df.loc[highest_grade_id, \"student name\"]\n",
    "print(highest_grade_student)"
   ]
  },
  {
   "cell_type": "markdown",
   "id": "14c99d18-ef61-4a50-8557-43083260c5d8",
   "metadata": {},
   "source": [
    "# Getting the average grade"
   ]
  },
  {
   "cell_type": "code",
   "execution_count": 23,
   "id": "aa65f6b3-50ea-42c1-b350-ad49cc918740",
   "metadata": {},
   "outputs": [
    {
     "name": "stdout",
     "output_type": "stream",
     "text": [
      "82.60\n"
     ]
    }
   ],
   "source": [
    "class_mean = df['grade'].mean()\n",
    "print(f\"{class_mean:.2f}\")"
   ]
  },
  {
   "cell_type": "markdown",
   "id": "2e237817-bb6e-4afc-bfb3-1f92caf76b6b",
   "metadata": {},
   "source": [
    "# Creating dataframes for approved and failes students"
   ]
  },
  {
   "cell_type": "code",
   "execution_count": 14,
   "id": "29a4a19a-c3f2-4b6e-8ddf-4253f6b0ec12",
   "metadata": {},
   "outputs": [],
   "source": [
    "approved_students_df = df[df[\"status\"] == \"approved\"]\n",
    "failed_students_df = df[df[\"status\"] == \"failed\"]"
   ]
  },
  {
   "cell_type": "code",
   "execution_count": 15,
   "id": "8cc148e2-0f10-46d8-be69-326eb0c6d755",
   "metadata": {},
   "outputs": [
    {
     "data": {
      "text/html": [
       "<div>\n",
       "<style scoped>\n",
       "    .dataframe tbody tr th:only-of-type {\n",
       "        vertical-align: middle;\n",
       "    }\n",
       "\n",
       "    .dataframe tbody tr th {\n",
       "        vertical-align: top;\n",
       "    }\n",
       "\n",
       "    .dataframe thead th {\n",
       "        text-align: right;\n",
       "    }\n",
       "</style>\n",
       "<table border=\"1\" class=\"dataframe\">\n",
       "  <thead>\n",
       "    <tr style=\"text-align: right;\">\n",
       "      <th></th>\n",
       "      <th>student name</th>\n",
       "      <th>score 1</th>\n",
       "      <th>score 2</th>\n",
       "      <th>score 3</th>\n",
       "      <th>grade</th>\n",
       "      <th>status</th>\n",
       "    </tr>\n",
       "  </thead>\n",
       "  <tbody>\n",
       "    <tr>\n",
       "      <th>3</th>\n",
       "      <td>David</td>\n",
       "      <td>55</td>\n",
       "      <td>60</td>\n",
       "      <td>45</td>\n",
       "      <td>53.33</td>\n",
       "      <td>failed</td>\n",
       "    </tr>\n",
       "    <tr>\n",
       "      <th>26</th>\n",
       "      <td>Abigail</td>\n",
       "      <td>60</td>\n",
       "      <td>40</td>\n",
       "      <td>35</td>\n",
       "      <td>45.00</td>\n",
       "      <td>failed</td>\n",
       "    </tr>\n",
       "    <tr>\n",
       "      <th>29</th>\n",
       "      <td>Daniel</td>\n",
       "      <td>45</td>\n",
       "      <td>50</td>\n",
       "      <td>30</td>\n",
       "      <td>41.67</td>\n",
       "      <td>failed</td>\n",
       "    </tr>\n",
       "  </tbody>\n",
       "</table>\n",
       "</div>"
      ],
      "text/plain": [
       "   student name  score 1  score 2  score 3  grade  status\n",
       "3         David       55       60       45  53.33  failed\n",
       "26      Abigail       60       40       35  45.00  failed\n",
       "29       Daniel       45       50       30  41.67  failed"
      ]
     },
     "execution_count": 15,
     "metadata": {},
     "output_type": "execute_result"
    }
   ],
   "source": [
    "failed_students_df"
   ]
  },
  {
   "cell_type": "code",
   "execution_count": 25,
   "id": "a7643eba-eb8e-45cc-89e3-213d57e03026",
   "metadata": {},
   "outputs": [
    {
     "name": "stdout",
     "output_type": "stream",
     "text": [
      "Approved students: 49\n",
      "Failed students: 3\n"
     ]
    }
   ],
   "source": [
    "print(f\"Approved students: {approved_students_df.shape[0]}\")\n",
    "print(f\"Failed students: {failed_students_df.shape[0]}\")"
   ]
  },
  {
   "cell_type": "markdown",
   "id": "2b12076a-52fe-40db-a04f-688b30c50a27",
   "metadata": {},
   "source": [
    "# Exporting the resulting csv:"
   ]
  },
  {
   "cell_type": "code",
   "execution_count": 16,
   "id": "dfaf1d65-7f3d-427e-a3ec-03e513d7bc2d",
   "metadata": {},
   "outputs": [],
   "source": [
    "df.to_csv(\"result.csv\", index=False)"
   ]
  },
  {
   "cell_type": "markdown",
   "id": "cdcd5452-8622-4efe-8312-4145d8db1497",
   "metadata": {},
   "source": [
    "# Plotting the data"
   ]
  },
  {
   "cell_type": "markdown",
   "id": "08add9b7-2625-42a1-bc94-01a5fd8bb27c",
   "metadata": {},
   "source": [
    "## Approved x Failed students"
   ]
  },
  {
   "cell_type": "code",
   "execution_count": 17,
   "id": "037c49c2-153c-4c4f-b1f9-cd2ec3006d50",
   "metadata": {},
   "outputs": [
    {
     "data": {
      "text/plain": [
       "status\n",
       "approved    49\n",
       "failed       3\n",
       "Name: count, dtype: int64"
      ]
     },
     "execution_count": 17,
     "metadata": {},
     "output_type": "execute_result"
    }
   ],
   "source": [
    "# checking the percentage of approved/failed students:\n",
    "df[\"status\"].value_counts()"
   ]
  },
  {
   "cell_type": "code",
   "execution_count": 18,
   "id": "91fbb2e6-e902-4a3c-8034-c2c6da6106e7",
   "metadata": {},
   "outputs": [
    {
     "data": {
      "image/png": "[encoded data removed]",
      "text/plain": [
       "<Figure size 640x480 with 1 Axes>"
      ]
     },
     "metadata": {},
     "output_type": "display_data"
    },
    {
     "data": {
      "text/plain": [
       "<Figure size 400x400 with 0 Axes>"
      ]
     },
     "metadata": {},
     "output_type": "display_data"
    }
   ],
   "source": [
    "# plotting the data:\n",
    "status_counts = df[\"status\"].value_counts()\n",
    "plt.pie(status_counts, labels=status_counts.index, autopct=\"%1.1f%%\", colors=[\"lightgreen\", \"red\"])\n",
    "plt.title(\"Students Status\")\n",
    "plt.figure(figsize=(4, 4))\n",
    "plt.show()"
   ]
  },
  {
   "cell_type": "markdown",
   "id": "0022e265-8ae7-45d9-9d1a-7ac1bc2192df",
   "metadata": {},
   "source": [
    "## Most frequent grades"
   ]
  },
  {
   "cell_type": "code",
   "execution_count": 19,
   "id": "b69b6f6d-897f-4622-8335-690a247f9ea8",
   "metadata": {},
   "outputs": [
    {
     "data": {
      "image/png": "[encoded data removed]",
      "text/plain": [
       "<Figure size 640x480 with 1 Axes>"
      ]
     },
     "metadata": {},
     "output_type": "display_data"
    }
   ],
   "source": [
    "plt.hist(df['grade'], bins=20, color=\"blue\", alpha=0.7)\n",
    "plt.xlabel(\"grade\")\n",
    "plt.ylabel(\"Frequency\")\n",
    "plt.title(\"Distribution of Mean Grades\")\n",
    "plt.show()"
   ]
  },
  {
   "cell_type": "code",
   "execution_count": null,
   "id": "394cd45c-db88-4eb6-925c-8cbd1d0d6148",
   "metadata": {},
   "outputs": [],
   "source": []
  }
 ],
 "metadata": {
  "kernelspec": {
   "display_name": "Python 3 (ipykernel)",
   "language": "python",
   "name": "python3"
  },
  "language_info": {
   "codemirror_mode": {
    "name": "ipython",
    "version": 3
   },
   "file_extension": ".py",
   "mimetype": "text/x-python",
   "name": "python",
   "nbconvert_exporter": "python",
   "pygments_lexer": "ipython3",
   "version": "3.12.5"
  }
 },
 "nbformat": 4,
 "nbformat_minor": 5
}
